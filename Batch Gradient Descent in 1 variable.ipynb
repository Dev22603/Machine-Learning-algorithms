{
 "cells": [
  {
   "cell_type": "code",
   "execution_count": 19,
   "metadata": {},
   "outputs": [],
   "source": [
    "import numpy as np\n",
    "import random\n",
    "import pandas as pd\n",
    "import matplotlib.pylab as plt"
   ]
  },
  {
   "cell_type": "markdown",
   "metadata": {},
   "source": [
    "Data Extraction"
   ]
  },
  {
   "cell_type": "code",
   "execution_count": 20,
   "metadata": {},
   "outputs": [],
   "source": [
    "csv_file_path=input(\"Enter path of csv file\")\n",
    "data =pd.read_csv(csv_file_path)"
   ]
  },
  {
   "cell_type": "markdown",
   "metadata": {},
   "source": [
    "we divide the data into 80:20\n",
    "<br>\n",
    "80 is training data\n",
    "<br>\n",
    "20 is test data"
   ]
  },
  {
   "cell_type": "code",
   "execution_count": 21,
   "metadata": {},
   "outputs": [
    {
     "name": "stdout",
     "output_type": "stream",
     "text": [
      "5 4 1\n"
     ]
    }
   ],
   "source": [
    "rows=data.shape[0]\n",
    "training_examples=int(0.8*rows)\n",
    "test_examples=rows-training_examples\n",
    "print(rows,training_examples,test_examples)"
   ]
  },
  {
   "cell_type": "code",
   "execution_count": 22,
   "metadata": {},
   "outputs": [],
   "source": [
    "training_examples=rows"
   ]
  },
  {
   "cell_type": "code",
   "execution_count": 23,
   "metadata": {},
   "outputs": [],
   "source": [
    "# X_train=data.iloc[0:training_examples,0:1] #Dataframe\n",
    "# Y_train=data.iloc[0:training_examples,1:2] #Dataframe\n",
    "X_train=data.iloc[0:training_examples,0] #Series\n",
    "Y_train=data.iloc[0:training_examples,1] #Series\n",
    "\n",
    "\n",
    "X_test=data.iloc[training_examples:,0]\n",
    "Y_test=data.iloc[training_examples:,1]\n",
    "\n",
    "\n",
    "# X_train_np=np.array(X_train.iloc[:,0]) # to be used with X_train=data.iloc[0:training_examples,0:1]\n",
    "X_train_np=np.array(X_train.iloc[:]) # to be used with X_train=data.iloc[0:training_examples,0]\n",
    "Y_train_np=np.array(Y_train.iloc[:])"
   ]
  },
  {
   "cell_type": "code",
   "execution_count": 24,
   "metadata": {},
   "outputs": [],
   "source": [
    "def cost_Fn(X,Y, w,b):\n",
    "    ans=int(0)\n",
    "    for i in range(len(X)):\n",
    "        ans+=int((w*X[i]+b-Y[i]))**2\n",
    "    ans/=(2*len(X))\n",
    "    return ans\n",
    "\n",
    "\n",
    "def compute_gradient(X,Y,w,b):\n",
    "    n=len(X)\n",
    "    dj_dw = 0\n",
    "    dj_db = 0\n",
    "    for i in range(n):\n",
    "        predicted = w * X[i] + b\n",
    "        error = predicted - Y[i]\n",
    "        dj_dw_i = error * X[i]\n",
    "        dj_db_i =error\n",
    "        dj_db += (dj_db_i/n)\n",
    "        dj_dw += (dj_dw_i/n)\n",
    "    # dj_dw = dj_dw / n\n",
    "    # dj_db = dj_db / n\n",
    "    return dj_dw, dj_db\n",
    "\n",
    "\n",
    "\n"
   ]
  },
  {
   "cell_type": "code",
   "execution_count": 25,
   "metadata": {},
   "outputs": [],
   "source": [
    "def gradient_descent(x, y, w_in, b_in, alpha, num_iters, cost_function, gradient_function):\n",
    "    \"\"\"\n",
    "    Performs gradient descent to fit w,b. Updates w,b by taking\n",
    "    num_iters gradient steps with learning rate alpha\n",
    "\n",
    "    Args:\n",
    "      x (ndarray (m,))  : Data, m examples\n",
    "      y (ndarray (m,))  : target values\n",
    "      w_in,b_in (scalar): initial values of model parameters\n",
    "      alpha (float):     Learning rate\n",
    "      num_iters (int):   number of iterations to run gradient descent\n",
    "      cost_function:     function to call to produce cost\n",
    "      gradient_function: function to call to produce gradient\n",
    "\n",
    "    Returns:\n",
    "      w (scalar): Updated value of parameter after running gradient descent\n",
    "      b (scalar): Updated value of parameter after running gradient descent\n",
    "      J_history (List): History of cost values\n",
    "      p_history (list): History of parameters [w,b]\n",
    "      \n",
    "\n",
    "    w = copy.deepcopy(w_in) # avoid modifying global w_in\n",
    "    An array to store cost J and w's at each iteration primarily for graphing later\n",
    "    \"\"\"    \n",
    "    J_history = []\n",
    "    p_history = []\n",
    "    b = b_in\n",
    "    w = w_in\n",
    "    for i in range(num_iters):\n",
    "        # Calculate the gradient and update the parameters using gradient_function\n",
    "        dj_dw, dj_db = gradient_function(x, y, w , b)\n",
    "\n",
    "        # Update Parameters using equation (3) above\n",
    "        b = b - alpha * dj_db\n",
    "        w = w - alpha * dj_dw\n",
    "\n",
    "        # Save cost J at each iteration\n",
    "        if i<100000:      # prevent resource exhaustion\n",
    "            J_history.append( cost_function(x, y, w , b))\n",
    "            p_history.append([w,b])\n",
    "\n",
    "    return w, b, J_history, p_history #return w and J,w history for graphing"
   ]
  },
  {
   "cell_type": "code",
   "execution_count": 26,
   "metadata": {},
   "outputs": [],
   "source": [
    "w_init = 5\n",
    "b_init = 2\n",
    "# some gradient descent settings\n",
    "iterations = 1\n",
    "tmp_alpha = 0.01\n",
    "# run gradient descent\n",
    "w_final, b_final, J_hist, p_hist = gradient_descent(X_train_np ,Y_train_np, w_init, b_init, tmp_alpha,iterations, cost_Fn, compute_gradient)"
   ]
  },
  {
   "cell_type": "code",
   "execution_count": 27,
   "metadata": {},
   "outputs": [
    {
     "data": {
      "text/plain": [
       "4.5023599999999995"
      ]
     },
     "execution_count": 27,
     "metadata": {},
     "output_type": "execute_result"
    }
   ],
   "source": [
    "w_final\n"
   ]
  },
  {
   "cell_type": "code",
   "execution_count": 28,
   "metadata": {},
   "outputs": [
    {
     "data": {
      "text/plain": [
       "1.9238"
      ]
     },
     "execution_count": 28,
     "metadata": {},
     "output_type": "execute_result"
    }
   ],
   "source": [
    "b_final"
   ]
  }
 ],
 "metadata": {
  "kernelspec": {
   "display_name": "base",
   "language": "python",
   "name": "python3"
  },
  "language_info": {
   "codemirror_mode": {
    "name": "ipython",
    "version": 3
   },
   "file_extension": ".py",
   "mimetype": "text/x-python",
   "name": "python",
   "nbconvert_exporter": "python",
   "pygments_lexer": "ipython3",
   "version": "3.10.12"
  },
  "orig_nbformat": 4
 },
 "nbformat": 4,
 "nbformat_minor": 2
}
