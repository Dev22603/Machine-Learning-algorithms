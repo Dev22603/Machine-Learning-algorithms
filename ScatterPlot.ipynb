{
 "cells": [
  {
   "cell_type": "code",
   "execution_count": 8,
   "metadata": {},
   "outputs": [],
   "source": [
    "import numpy as np\n",
    "import random\n",
    "import pandas as pd\n",
    "import matplotlib.pylab as plt"
   ]
  },
  {
   "cell_type": "markdown",
   "metadata": {},
   "source": [
    "Data Extraction"
   ]
  },
  {
   "cell_type": "code",
   "execution_count": 9,
   "metadata": {},
   "outputs": [],
   "source": [
    "csv_file_path=input(\"Enter path of csv file\")\n",
    "data =pd.read_csv(csv_file_path)"
   ]
  },
  {
   "cell_type": "markdown",
   "metadata": {},
   "source": [
    "we divide the data into 80:20\n",
    "<br>\n",
    "80 is training data\n",
    "<br>\n",
    "20 is test data"
   ]
  },
  {
   "cell_type": "code",
   "execution_count": 10,
   "metadata": {},
   "outputs": [
    {
     "name": "stdout",
     "output_type": "stream",
     "text": [
      "4 3 1\n"
     ]
    }
   ],
   "source": [
    "rows=data.shape[0]\n",
    "training_examples=int(0.8*rows)\n",
    "test_examples=rows-training_examples\n",
    "print(rows,training_examples,test_examples)"
   ]
  },
  {
   "cell_type": "code",
   "execution_count": 11,
   "metadata": {},
   "outputs": [],
   "source": [
    "# X_train=data.iloc[0:training_examples,0:1] #Dataframe\n",
    "# Y_train=data.iloc[0:training_examples,1:2] #Dataframe\n",
    "X_train=data.iloc[0:training_examples,0] #Series\n",
    "Y_train=data.iloc[0:training_examples,1] #Series\n",
    "\n",
    "\n",
    "X_test=data.iloc[training_examples:,0]\n",
    "Y_test=data.iloc[training_examples:,1]\n",
    "\n",
    "\n",
    "# X_train_np=np.array(X_train.iloc[:,0]) # to be used with X_train=data.iloc[0:training_examples,0:1]\n",
    "X_train_np=np.array(X_train.iloc[:]) # to be used with X_train=data.iloc[0:training_examples,0]\n",
    "Y_train_np=np.array(Y_train.iloc[:])"
   ]
  },
  {
   "cell_type": "code",
   "execution_count": 13,
   "metadata": {},
   "outputs": [
    {
     "data": {
      "text/plain": [
       "<matplotlib.collections.PathCollection at 0x1a58a7c5d20>"
      ]
     },
     "execution_count": 13,
     "metadata": {},
     "output_type": "execute_result"
    },
    {
     "data": {
      "image/png": "[encoded data removed]",
      "text/plain": [
       "<Figure size 640x480 with 1 Axes>"
      ]
     },
     "metadata": {},
     "output_type": "display_data"
    }
   ],
   "source": [
    "w=0.4052993294762261\n",
    "b=0.010862112676581213\n",
    "plt.scatter(X_train,Y_train)\n",
    "plt.scatter(X_train,w*X_train+b)"
   ]
  },
  {
   "cell_type": "code",
   "execution_count": null,
   "metadata": {},
   "outputs": [],
   "source": []
  }
 ],
 "metadata": {
  "kernelspec": {
   "display_name": "base",
   "language": "python",
   "name": "python3"
  },
  "language_info": {
   "codemirror_mode": {
    "name": "ipython",
    "version": 3
   },
   "file_extension": ".py",
   "mimetype": "text/x-python",
   "name": "python",
   "nbconvert_exporter": "python",
   "pygments_lexer": "ipython3",
   "version": "3.10.12"
  },
  "orig_nbformat": 4
 },
 "nbformat": 4,
 "nbformat_minor": 2
}
